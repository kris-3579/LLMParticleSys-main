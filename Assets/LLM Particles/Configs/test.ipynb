{
 "cells": [
  {
   "cell_type": "code",
   "execution_count": 73,
   "metadata": {},
   "outputs": [],
   "source": [
    "user_input = \"a light snow\"\n",
    "output_file_path = \"test_output.json\""
   ]
  },
  {
   "cell_type": "code",
   "execution_count": 74,
   "metadata": {},
   "outputs": [
    {
     "name": "stdout",
     "output_type": "stream",
     "text": [
      "/common/home/dl1104/Documents/LLMStoryGen/Jupyter\n"
     ]
    },
    {
     "data": {
      "text/plain": [
       "True"
      ]
     },
     "execution_count": 74,
     "metadata": {},
     "output_type": "execute_result"
    }
   ],
   "source": [
    "from dotenv import load_dotenv, find_dotenv\n",
    "\n",
    "# load environment variables\n",
    "load_dotenv(find_dotenv())"
   ]
  },
  {
   "cell_type": "code",
   "execution_count": 75,
   "metadata": {},
   "outputs": [
    {
     "name": "stdout",
     "output_type": "stream",
     "text": [
      "{'MainModule': {'startLifetime': 1, 'emission': {'rateOverTime': 1000}, 'startSize': 0.1, 'startSpeed': 10, 'gravityModifier': 1}, 'ShapeModule': {'shapeType': 'Box', 'scale': {'x': 50, 'y': 50, 'z': 1}, 'position': {'x': 0, 'y': 0, 'z': 50}}, 'VelocityOverLifetimeModule': {'z': {'type': 'constant', 'value': -50}}}\n"
     ]
    }
   ],
   "source": [
    "from particleSysDesign import particle_sys_design\n",
    "\n",
    "result = particle_sys_design(user_input, output_file_path)\n",
    "print(result)"
   ]
  }
 ],
 "metadata": {
  "kernelspec": {
   "display_name": "story2",
   "language": "python",
   "name": "python3"
  },
  "language_info": {
   "codemirror_mode": {
    "name": "ipython",
    "version": 3
   },
   "file_extension": ".py",
   "mimetype": "text/x-python",
   "name": "python",
   "nbconvert_exporter": "python",
   "pygments_lexer": "ipython3",
   "version": "3.10.13"
  }
 },
 "nbformat": 4,
 "nbformat_minor": 2
}
